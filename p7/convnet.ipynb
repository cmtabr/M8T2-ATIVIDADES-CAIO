{
 "cells": [
  {
   "cell_type": "markdown",
   "metadata": {},
   "source": [
    "# MNIST Using Convolutional Neural Network"
   ]
  },
  {
   "cell_type": "markdown",
   "metadata": {},
   "source": [
    "## Importing the libraries"
   ]
  },
  {
   "cell_type": "code",
   "execution_count": 13,
   "metadata": {},
   "outputs": [],
   "source": [
    "import numpy as np\n",
    "import keras\n",
    "from keras import layers\n",
    "import matplotlib.pyplot as plt\n",
    "import tensorflow as tf"
   ]
  },
  {
   "cell_type": "markdown",
   "metadata": {},
   "source": [
    "## Adjusting the data"
   ]
  },
  {
   "cell_type": "code",
   "execution_count": 14,
   "metadata": {},
   "outputs": [
    {
     "name": "stdout",
     "output_type": "stream",
     "text": [
      "Modelo para treino + Amostras:  (60000, 28, 28, 1)\n",
      "Amostras de treino:  60000\n",
      "Amostras de teste:  10000\n"
     ]
    }
   ],
   "source": [
    "# Parameters for the model and dataset.\n",
    "num_classes = 10\n",
    "input_shape = (28, 28, 1)\n",
    "\n",
    "(x_train, y_train), (x_test, y_test) = keras.datasets.mnist.load_data()\n",
    "\n",
    "x_train = x_train.astype(\"float32\") / 255\n",
    "x_test = x_test.astype(\"float32\") / 255\n",
    "x_train = np.expand_dims(x_train, -1)\n",
    "x_test = np.expand_dims(x_test, -1)\n",
    "print(\"Modelo para treino + Amostras: \", x_train.shape)\n",
    "print(\"Amostras de treino: \", x_train.shape[0])\n",
    "print(\"Amostras de teste: \", x_test.shape[0])\n",
    "\n",
    "y_train = keras.utils.to_categorical(y_train, num_classes)\n",
    "y_test = keras.utils.to_categorical(y_test, num_classes)"
   ]
  },
  {
   "cell_type": "markdown",
   "metadata": {},
   "source": [
    "## Building the model"
   ]
  },
  {
   "cell_type": "code",
   "execution_count": 15,
   "metadata": {},
   "outputs": [
    {
     "name": "stdout",
     "output_type": "stream",
     "text": [
      "Model: \"sequential_2\"\n",
      "_________________________________________________________________\n",
      " Layer (type)                Output Shape              Param #   \n",
      "=================================================================\n",
      " conv2d_5 (Conv2D)           (None, 26, 26, 32)        320       \n",
      "                                                                 \n",
      " max_pooling2d_5 (MaxPoolin  (None, 13, 13, 32)        0         \n",
      " g2D)                                                            \n",
      "                                                                 \n",
      " conv2d_6 (Conv2D)           (None, 11, 11, 64)        18496     \n",
      "                                                                 \n",
      " max_pooling2d_6 (MaxPoolin  (None, 5, 5, 64)          0         \n",
      " g2D)                                                            \n",
      "                                                                 \n",
      " conv2d_7 (Conv2D)           (None, 3, 3, 96)          55392     \n",
      "                                                                 \n",
      " max_pooling2d_7 (MaxPoolin  (None, 1, 1, 96)          0         \n",
      " g2D)                                                            \n",
      "                                                                 \n",
      " flatten_2 (Flatten)         (None, 96)                0         \n",
      "                                                                 \n",
      " dropout_2 (Dropout)         (None, 96)                0         \n",
      "                                                                 \n",
      " dense_2 (Dense)             (None, 10)                970       \n",
      "                                                                 \n",
      "=================================================================\n",
      "Total params: 75178 (293.66 KB)\n",
      "Trainable params: 75178 (293.66 KB)\n",
      "Non-trainable params: 0 (0.00 Byte)\n",
      "_________________________________________________________________\n"
     ]
    }
   ],
   "source": [
    "convnet = keras.Sequential(\n",
    "    [\n",
    "        keras.Input(shape=input_shape),\n",
    "        layers.Conv2D(32, kernel_size=(3, 3), activation=\"relu\"),\n",
    "        layers.MaxPooling2D(pool_size=(2, 2)),\n",
    "        layers.Conv2D(64, kernel_size=(3, 3), activation=\"relu\"),\n",
    "        layers.MaxPooling2D(pool_size=(2, 2)),\n",
    "        layers.Conv2D(96, kernel_size=(3, 3), activation=\"relu\"),\n",
    "        layers.MaxPooling2D(pool_size=(2, 2)),\n",
    "        layers.Flatten(),\n",
    "        layers.Dropout(0.6),\n",
    "        layers.Dense(num_classes, activation=\"softmax\"),\n",
    "    ]\n",
    ")\n",
    "\n",
    "convnet.summary()"
   ]
  },
  {
   "cell_type": "markdown",
   "metadata": {},
   "source": [
    "## Training the model"
   ]
  },
  {
   "cell_type": "code",
   "execution_count": 16,
   "metadata": {},
   "outputs": [
    {
     "name": "stdout",
     "output_type": "stream",
     "text": [
      "Epoch 1/25\n",
      "211/211 [==============================] - 11s 48ms/step - loss: 0.7379 - accuracy: 0.7694 - val_loss: 0.1411 - val_accuracy: 0.9602\n",
      "Epoch 2/25\n",
      "211/211 [==============================] - 10s 49ms/step - loss: 0.2735 - accuracy: 0.9188 - val_loss: 0.0961 - val_accuracy: 0.9735\n",
      "Epoch 3/25\n",
      "211/211 [==============================] - 12s 55ms/step - loss: 0.2074 - accuracy: 0.9391 - val_loss: 0.0785 - val_accuracy: 0.9772\n",
      "Epoch 4/25\n",
      "211/211 [==============================] - 14s 66ms/step - loss: 0.1691 - accuracy: 0.9497 - val_loss: 0.0678 - val_accuracy: 0.9812\n",
      "Epoch 5/25\n",
      "211/211 [==============================] - 14s 64ms/step - loss: 0.1552 - accuracy: 0.9551 - val_loss: 0.0579 - val_accuracy: 0.9833\n",
      "Epoch 6/25\n",
      "211/211 [==============================] - 13s 64ms/step - loss: 0.1376 - accuracy: 0.9608 - val_loss: 0.0566 - val_accuracy: 0.9828\n",
      "Epoch 7/25\n",
      "211/211 [==============================] - 14s 65ms/step - loss: 0.1281 - accuracy: 0.9629 - val_loss: 0.0510 - val_accuracy: 0.9848\n",
      "Epoch 8/25\n",
      "211/211 [==============================] - 14s 67ms/step - loss: 0.1166 - accuracy: 0.9651 - val_loss: 0.0484 - val_accuracy: 0.9862\n",
      "Epoch 9/25\n",
      "211/211 [==============================] - 14s 68ms/step - loss: 0.1090 - accuracy: 0.9683 - val_loss: 0.0469 - val_accuracy: 0.9862\n",
      "Epoch 10/25\n",
      "211/211 [==============================] - 15s 69ms/step - loss: 0.1021 - accuracy: 0.9697 - val_loss: 0.0486 - val_accuracy: 0.9863\n",
      "Epoch 11/25\n",
      "211/211 [==============================] - 14s 69ms/step - loss: 0.0983 - accuracy: 0.9712 - val_loss: 0.0434 - val_accuracy: 0.9873\n",
      "Epoch 12/25\n",
      "211/211 [==============================] - 15s 69ms/step - loss: 0.0936 - accuracy: 0.9724 - val_loss: 0.0469 - val_accuracy: 0.9865\n",
      "Epoch 13/25\n",
      "211/211 [==============================] - 15s 70ms/step - loss: 0.0879 - accuracy: 0.9735 - val_loss: 0.0410 - val_accuracy: 0.9892\n",
      "Epoch 14/25\n",
      "211/211 [==============================] - 14s 67ms/step - loss: 0.0784 - accuracy: 0.9771 - val_loss: 0.0434 - val_accuracy: 0.9882\n",
      "Epoch 15/25\n",
      "211/211 [==============================] - 14s 67ms/step - loss: 0.0796 - accuracy: 0.9763 - val_loss: 0.0410 - val_accuracy: 0.9893\n",
      "Epoch 16/25\n",
      "211/211 [==============================] - 14s 66ms/step - loss: 0.0752 - accuracy: 0.9776 - val_loss: 0.0425 - val_accuracy: 0.9883\n",
      "Epoch 17/25\n",
      "211/211 [==============================] - 14s 68ms/step - loss: 0.0753 - accuracy: 0.9774 - val_loss: 0.0421 - val_accuracy: 0.9887\n",
      "Epoch 18/25\n",
      "211/211 [==============================] - 15s 73ms/step - loss: 0.0684 - accuracy: 0.9790 - val_loss: 0.0406 - val_accuracy: 0.9898\n",
      "Epoch 19/25\n",
      "211/211 [==============================] - 15s 69ms/step - loss: 0.0693 - accuracy: 0.9789 - val_loss: 0.0420 - val_accuracy: 0.9897\n",
      "Epoch 20/25\n",
      "211/211 [==============================] - 15s 71ms/step - loss: 0.0647 - accuracy: 0.9806 - val_loss: 0.0375 - val_accuracy: 0.9913\n",
      "Epoch 21/25\n",
      "211/211 [==============================] - 15s 72ms/step - loss: 0.0614 - accuracy: 0.9817 - val_loss: 0.0394 - val_accuracy: 0.9907\n",
      "Epoch 22/25\n",
      "211/211 [==============================] - 15s 69ms/step - loss: 0.0597 - accuracy: 0.9816 - val_loss: 0.0386 - val_accuracy: 0.9917\n",
      "Epoch 23/25\n",
      "211/211 [==============================] - 15s 69ms/step - loss: 0.0602 - accuracy: 0.9815 - val_loss: 0.0485 - val_accuracy: 0.9877\n",
      "Epoch 24/25\n",
      "211/211 [==============================] - 15s 73ms/step - loss: 0.0571 - accuracy: 0.9822 - val_loss: 0.0410 - val_accuracy: 0.9912\n",
      "Epoch 25/25\n",
      "211/211 [==============================] - 14s 66ms/step - loss: 0.0539 - accuracy: 0.9829 - val_loss: 0.0387 - val_accuracy: 0.9912\n"
     ]
    },
    {
     "data": {
      "text/plain": [
       "<keras.src.callbacks.History at 0x1ce9c043750>"
      ]
     },
     "execution_count": 16,
     "metadata": {},
     "output_type": "execute_result"
    }
   ],
   "source": [
    "batch_size = 256\n",
    "epochs = 25\n",
    "\n",
    "convnet.compile(loss=\"categorical_crossentropy\", optimizer=\"adam\", metrics=[\"accuracy\"])\n",
    "\n",
    "convnet.fit(x_train, y_train, batch_size=batch_size, epochs=epochs, validation_split=0.1)"
   ]
  },
  {
   "cell_type": "markdown",
   "metadata": {},
   "source": [
    "## Visualizing the results"
   ]
  },
  {
   "cell_type": "code",
   "execution_count": 17,
   "metadata": {},
   "outputs": [
    {
     "name": "stdout",
     "output_type": "stream",
     "text": [
      "Taxa de perda do set de teste:  0.04064019024372101\n",
      "Taxa de acurácia:  0.9882000088691711\n"
     ]
    }
   ],
   "source": [
    "score = convnet.evaluate(x_test, y_test, verbose=0)\n",
    "print(\"Taxa de perda do set de teste: \", score[0])\n",
    "print(\"Taxa de acurácia: \", score[1])"
   ]
  },
  {
   "cell_type": "code",
   "execution_count": 18,
   "metadata": {},
   "outputs": [
    {
     "name": "stdout",
     "output_type": "stream",
     "text": [
      "313/313 [==============================] - 2s 5ms/step\n"
     ]
    },
    {
     "data": {
      "image/png": "[encoded data removed]",
      "text/plain": [
       "<Figure size 640x480 with 1 Axes>"
      ]
     },
     "metadata": {},
     "output_type": "display_data"
    }
   ],
   "source": [
    "predictions = convnet.predict(x_test)\n",
    "\n",
    "plt.imshow(x_test[15], cmap=plt.cm.binary)\n",
    "plt.show()"
   ]
  }
 ],
 "metadata": {
  "kernelspec": {
   "display_name": "Python 3",
   "language": "python",
   "name": "python3"
  },
  "language_info": {
   "codemirror_mode": {
    "name": "ipython",
    "version": 3
   },
   "file_extension": ".py",
   "mimetype": "text/x-python",
   "name": "python",
   "nbconvert_exporter": "python",
   "pygments_lexer": "ipython3",
   "version": "3.11.4"
  }
 },
 "nbformat": 4,
 "nbformat_minor": 2
}
